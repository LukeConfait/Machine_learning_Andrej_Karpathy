{
 "cells": [
  {
   "cell_type": "code",
   "execution_count": 117,
   "metadata": {},
   "outputs": [],
   "source": [
    "import matplotlib.pyplot as plt\n",
    "import numpy as np\n",
    "import torch\n",
    "import torch.nn.functional as F\n",
    "\n",
    "from scipy.io import loadmat\n"
   ]
  },
  {
   "cell_type": "code",
   "execution_count": 407,
   "metadata": {},
   "outputs": [],
   "source": [
    "# Data import\n",
    "mnist = loadmat(r\"mnist-original.mat\")\n",
    "# Convert training data to normalised vector\n",
    "images = (mnist[\"data\"].T/256)"
   ]
  },
  {
   "cell_type": "code",
   "execution_count": 409,
   "metadata": {},
   "outputs": [],
   "source": [
    "X, Y = [],[]\n",
    "\n",
    "for image in images:\n",
    "    for i in range(27):\n",
    "        X.append(image[i:i+28])\n",
    "        Y.append(image[i+28:i+28*2])\n",
    "\n",
    "X = torch.tensor(np.array(X))\n",
    "Y = torch.tensor(np.array(Y))"
   ]
  },
  {
   "cell_type": "code",
   "execution_count": 416,
   "metadata": {},
   "outputs": [
    {
     "data": {
      "text/plain": [
       "torch.Size([1890000, 28])"
      ]
     },
     "execution_count": 416,
     "metadata": {},
     "output_type": "execute_result"
    }
   ],
   "source": [
    "X.shape"
   ]
  },
  {
   "cell_type": "code",
   "execution_count": 422,
   "metadata": {},
   "outputs": [],
   "source": [
    "g = torch.Generator().manual_seed(2000000)\n",
    "w1 = torch.randn((28,28), generator=g, dtype=torch.float64)\n",
    "w2 = torch.randn((28,200), generator=g, dtype=torch.float64)\n",
    "w3 = torch.randn((200,28), generator=g, dtype=torch.float64)\n",
    "\n",
    "parameters = [c, w1, b1, w2, b2]\n",
    "nparameters = sum(p.nelement() for p in parameters)\n",
    "print(f'{nparameters} parameters')\n",
    "\n",
    "for p in parameters:\n",
    "    p.requires_grad = True\n"
   ]
  },
  {
   "cell_type": "code",
   "execution_count": 425,
   "metadata": {},
   "outputs": [
    {
     "name": "stdout",
     "output_type": "stream",
     "text": [
      "0.26091075050801643\n"
     ]
    }
   ],
   "source": [
    "for i in range(1000)\n",
    "Z_1 = X @ w1\n",
    "Z_2 = torch.tanh(Z_1 @ w2)\n",
    "logits = Z_2 @ w3\n",
    "loss = F.cross_entropy(logits, Y)\n",
    "    print(loss.item())"
   ]
  }
 ],
 "metadata": {
  "kernelspec": {
   "display_name": "Python 3",
   "language": "python",
   "name": "python3"
  },
  "language_info": {
   "codemirror_mode": {
    "name": "ipython",
    "version": 3
   },
   "file_extension": ".py",
   "mimetype": "text/x-python",
   "name": "python",
   "nbconvert_exporter": "python",
   "pygments_lexer": "ipython3",
   "version": "3.10.5"
  },
  "orig_nbformat": 4
 },
 "nbformat": 4,
 "nbformat_minor": 2
}
