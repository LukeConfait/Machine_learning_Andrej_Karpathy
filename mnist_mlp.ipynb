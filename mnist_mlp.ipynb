{
 "cells": [
  {
   "cell_type": "code",
   "execution_count": 1,
   "metadata": {},
   "outputs": [],
   "source": [
    "import matplotlib.pyplot as plt\n",
    "import numpy as np\n",
    "import torch\n",
    "import torch.nn.functional as F\n",
    "from scipy.io import loadmat"
   ]
  },
  {
   "cell_type": "code",
   "execution_count": 2,
   "metadata": {},
   "outputs": [],
   "source": [
    "# Data import\n",
    "mnist = loadmat(r\"mnist-original.mat\")\n",
    "# Convert training data to normalised vector\n",
    "images = (mnist[\"data\"].T/256)"
   ]
  },
  {
   "cell_type": "code",
   "execution_count": 58,
   "metadata": {},
   "outputs": [],
   "source": [
    "X, Y = [],[]\n",
    "\n",
    "for image in images[1:1000]:\n",
    "    for i in range(27):\n",
    "        X.append(image[i:i+28])\n",
    "        Y.append(image[i+28:i+28*2])\n",
    "\n",
    "X = torch.tensor(np.array(X))\n",
    "Y = torch.tensor(np.array(Y))"
   ]
  },
  {
   "cell_type": "code",
   "execution_count": 59,
   "metadata": {},
   "outputs": [
    {
     "data": {
      "text/plain": [
       "torch.Size([26973, 28])"
      ]
     },
     "execution_count": 59,
     "metadata": {},
     "output_type": "execute_result"
    }
   ],
   "source": [
    "X.shape"
   ]
  },
  {
   "cell_type": "code",
   "execution_count": 60,
   "metadata": {},
   "outputs": [
    {
     "name": "stdout",
     "output_type": "stream",
     "text": [
      "11984 parameters\n"
     ]
    }
   ],
   "source": [
    "g = torch.Generator().manual_seed(2000000)\n",
    "w1 = torch.randn((28,28), generator=g, dtype=torch.float64)\n",
    "w2 = torch.randn((28,200), generator=g, dtype=torch.float64)\n",
    "w3 = torch.randn((200,28), generator=g, dtype=torch.float64)\n",
    "\n",
    "parameters = [w1, w2, w3]\n",
    "nparameters = sum(p.nelement() for p in parameters)\n",
    "print(f'{nparameters} parameters')\n",
    "\n",
    "for p in parameters:\n",
    "    p.requires_grad = True\n"
   ]
  },
  {
   "cell_type": "code",
   "execution_count": 61,
   "metadata": {},
   "outputs": [],
   "source": [
    "for i in range(10000):\n",
    "    Z_1 = X @ w1\n",
    "    Z_2 = torch.tanh(Z_1 @ w2)\n",
    "    Z_3 = Z_2 @ w3\n",
    "    loss = F.cross_entropy(Z_3, Y)\n",
    "    loss.backward()\n",
    "    \n",
    "        \n",
    "    for p in parameters:\n",
    "        p.data += -0.01  * p.grad"
   ]
  },
  {
   "cell_type": "code",
   "execution_count": 57,
   "metadata": {},
   "outputs": [
    {
     "data": {
      "text/plain": [
       "<matplotlib.image.AxesImage at 0x209b05c8be0>"
      ]
     },
     "execution_count": 57,
     "metadata": {},
     "output_type": "execute_result"
    },
    {
     "data": {
      "image/png": "[encoded data removed]",
      "text/plain": [
       "<Figure size 432x288 with 1 Axes>"
      ]
     },
     "metadata": {
      "needs_background": "light"
     },
     "output_type": "display_data"
    }
   ],
   "source": [
    "ctx = torch.tensor([0.1]*28, dtype=torch.float64)\n",
    "\n",
    "for i in range(27):\n",
    "\n",
    "    z_1 = ctx[i*28:(i+1)*28] @ w1\n",
    "    z_2 = torch.tanh(z_1 @ w2)\n",
    "    z_3 = z_2 @ w3\n",
    "\n",
    "    ctx = torch.cat((ctx, z_3), 0)\n",
    "\n",
    "plt.imshow(ctx.reshape((28,28)).detach())\n",
    "\n",
    "\n"
   ]
  }
 ],
 "metadata": {
  "kernelspec": {
   "display_name": "Python 3",
   "language": "python",
   "name": "python3"
  },
  "language_info": {
   "codemirror_mode": {
    "name": "ipython",
    "version": 3
   },
   "file_extension": ".py",
   "mimetype": "text/x-python",
   "name": "python",
   "nbconvert_exporter": "python",
   "pygments_lexer": "ipython3",
   "version": "3.10.5"
  },
  "orig_nbformat": 4
 },
 "nbformat": 4,
 "nbformat_minor": 2
}
