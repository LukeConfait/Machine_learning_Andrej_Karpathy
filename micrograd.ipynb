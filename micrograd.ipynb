{
 "cells": [
  {
   "cell_type": "code",
   "execution_count": 8,
   "metadata": {},
   "outputs": [],
   "source": [
    "import math\n",
    "import numpy as np\n",
    "import matplotlib.pyplot as plt\n",
    "from my_micrograd import Value, Neuron, Layer, MLP\n",
    "%matplotlib inline"
   ]
  },
  {
   "cell_type": "code",
   "execution_count": 2,
   "metadata": {},
   "outputs": [],
   "source": [
    "def f(x): \n",
    "    return 3*x**2 - 4*x + 5"
   ]
  },
  {
   "cell_type": "code",
   "execution_count": 3,
   "metadata": {},
   "outputs": [
    {
     "data": {
      "text/plain": [
       "20.0"
      ]
     },
     "execution_count": 3,
     "metadata": {},
     "output_type": "execute_result"
    }
   ],
   "source": [
    "f(3.0)"
   ]
  },
  {
   "cell_type": "code",
   "execution_count": 4,
   "metadata": {},
   "outputs": [
    {
     "data": {
      "text/plain": [
       "[<matplotlib.lines.Line2D at 0x1dc2d9b1b10>]"
      ]
     },
     "execution_count": 4,
     "metadata": {},
     "output_type": "execute_result"
    },
    {
     "data": {
      "image/png": "[encoded data removed]",
      "text/plain": [
       "<Figure size 432x288 with 1 Axes>"
      ]
     },
     "metadata": {
      "needs_background": "light"
     },
     "output_type": "display_data"
    }
   ],
   "source": [
    "xs = np.arange(-5, 7, 0.25)\n",
    "ys = f(xs)\n",
    "plt.plot(xs, ys)"
   ]
  },
  {
   "cell_type": "code",
   "execution_count": 5,
   "metadata": {},
   "outputs": [
    {
     "data": {
      "text/plain": [
       "0.0002999999981767587"
      ]
     },
     "execution_count": 5,
     "metadata": {},
     "output_type": "execute_result"
    }
   ],
   "source": [
    "h = 0.0001\n",
    "x = 2/3 \n",
    "(f(x + h) - f(x))/h"
   ]
  },
  {
   "cell_type": "code",
   "execution_count": 6,
   "metadata": {},
   "outputs": [
    {
     "name": "stdout",
     "output_type": "stream",
     "text": [
      "4.0\n"
     ]
    }
   ],
   "source": [
    "# \n",
    "a =  2.0\n",
    "b = -3.0\n",
    "c = 10.0\n",
    "d = a*b + c\n",
    "print(d)"
   ]
  },
  {
   "cell_type": "code",
   "execution_count": 7,
   "metadata": {},
   "outputs": [
    {
     "name": "stdout",
     "output_type": "stream",
     "text": [
      "d1 4.0\n",
      "d2 4.0001\n",
      "slope, 0.9999999999976694\n"
     ]
    }
   ],
   "source": [
    "h = 0.0001\n",
    "\n",
    "# inputs\n",
    "a = 2.0\n",
    "b = -3.0\n",
    "c - 10.0\n",
    "\n",
    "d1 = a*b + c\n",
    "c += h \n",
    "d2 = a*b + c\n",
    "\n",
    "print(f'd1 {d1}')\n",
    "print(f'd2 {d2}')\n",
    "print(f'slope, {(d2 - d1)/h}')"
   ]
  },
  {
   "cell_type": "code",
   "execution_count": 1,
   "metadata": {},
   "outputs": [],
   "source": [
    "# class Value:\n",
    "\n",
    "#     def __init__(self, data, _children=(), _op='', label='') -> None:\n",
    "#         self.data = data\n",
    "#         self.grad = 0.0\n",
    "#         self._backward = lambda: None\n",
    "#         self._prev = set(_children)\n",
    "#         self._op = _op\n",
    "#         self.label = label\n",
    "\n",
    "#     def __repr__(self):\n",
    "#         return f\"Value(data={self.data} {self.label})\"\n",
    "    \n",
    "#     def __add__(self, other):\n",
    "#         other = other if isinstance(other, Value) else Value(other)\n",
    "#         out = Value(self.data + other.data, (self, other), '+')\n",
    "\n",
    "#         def _backward():\n",
    "#             self.grad += 1.0 * out.grad\n",
    "#             other.grad += 1.0 * out.grad\n",
    "#         out._backward = _backward\n",
    "\n",
    "#         return out\n",
    "    \n",
    "#     def __radd__(self, other):\n",
    "#         return self + other\n",
    "    \n",
    "#     def __neg__(self):\n",
    "#         return self * -1\n",
    "    \n",
    "#     def __sub__(self, other):\n",
    "#         return self + (-other)\n",
    "    \n",
    "#     def __rsub__(self, other):\n",
    "#         return other + (-self)\n",
    "\n",
    "#     def __mul__(self, other):\n",
    "#         other = other if isinstance(other, Value) else Value(other)\n",
    "#         out = Value(self.data * other.data, (self, other), '*')\n",
    "\n",
    "#         def _backward():\n",
    "#             self.grad += other.data * out.grad\n",
    "#             other.grad += self.data * out.grad\n",
    "#         out._backward = _backward\n",
    "    \n",
    "#         return out\n",
    "    \n",
    "#     def __rmul__(self, other):\n",
    "#         return other * self\n",
    "    \n",
    "#     def __truediv__(self, other):\n",
    "#         return self * other ** -1\n",
    "    \n",
    "#     def __rtruediv__(self, other):\n",
    "#         return other * self ** -1\n",
    "    \n",
    "#     def __pow__(self, other):\n",
    "#         assert isinstance(other, (int, float))\n",
    "#         out = Value(self.data**other, (self, ), f'**{other}')\n",
    "        \n",
    "#         def _backward():\n",
    "#             self.grad += other * self.data ** (other - 1)\n",
    "#         out._backward = _backward\n",
    "\n",
    "#         return out\n",
    "\n",
    "#     def exp(self):\n",
    "#         x = self.data\n",
    "#         out = Value(math.exp(x), (self, ), 'exp')\n",
    "\n",
    "#         def _backward():\n",
    "#             self.grad += out.data * out.grad\n",
    "#         out._backward = _backward\n",
    "\n",
    "#         return out\n",
    "\n",
    "#     def tanh(self):\n",
    "#         n = self.data\n",
    "#         t = (math.exp(2*n) - 1)/(math.exp(2*n) + 1)\n",
    "#         out = Value(t, (self, ), 'tanh')\n",
    "\n",
    "#         def _backward():\n",
    "#             self.grad += (1- t**2 ) * out.grad\n",
    "#         out._backward = _backward\n",
    "        \n",
    "#         return out\n",
    "\n",
    "#     def backward(self):\n",
    "\n",
    "#         topo = []\n",
    "#         visited = set()\n",
    "#         def build_topo(v):\n",
    "#             if v not in visited:\n",
    "#                 visited.add(v)\n",
    "#                 for child in v._prev:\n",
    "#                     build_topo(child)\n",
    "#                 topo.append(v)\n",
    "#         build_topo(self)\n",
    "\n",
    "#         self.grad = 1.0\n",
    "#         for node in reversed(topo):\n",
    "#             node._backward()"
   ]
  },
  {
   "cell_type": "code",
   "execution_count": 9,
   "metadata": {},
   "outputs": [
    {
     "data": {
      "text/plain": [
       "Value(data=0.7071067811865477 o)"
      ]
     },
     "execution_count": 9,
     "metadata": {},
     "output_type": "execute_result"
    }
   ],
   "source": [
    "# inputs\n",
    "x1 = Value(2.0, label='x1')\n",
    "x2 = Value(0.0, label='x2')\n",
    "# weights\n",
    "w1 = Value(-3.0, label='w1')\n",
    "w2 = Value(1.0, label='w2')\n",
    "# bias\n",
    "b = Value(6.8813735870195432, label='b')\n",
    "\n",
    "x1w1 = x1*w1; x1w1.label = 'x1*w1'\n",
    "x2w2 = x2*w2; x2w2.label = 'x2*w2'\n",
    "\n",
    "x1w1x2w2 = x1w1 + x2w2; x1w1x2w2.label = 'x1*w1 + x2*w2'\n",
    "n = x1w1x2w2 + b; n.label = 'n'\n",
    "# tanh \n",
    "#------\n",
    "e = (2*n).exp()\n",
    "o = (e - 1) / (e + 1)\n",
    "#------\n",
    "o.label = 'o'\n",
    "o.backward()\n",
    "o"
   ]
  },
  {
   "cell_type": "code",
   "execution_count": 10,
   "metadata": {},
   "outputs": [
    {
     "data": {
      "text/plain": [
       "Value(data=1.0 )"
      ]
     },
     "execution_count": 10,
     "metadata": {},
     "output_type": "execute_result"
    }
   ],
   "source": [
    "a = Value(2.0)\n",
    "b = Value(1.0)\n",
    "\n",
    "3 - a"
   ]
  },
  {
   "cell_type": "code",
   "execution_count": 11,
   "metadata": {},
   "outputs": [
    {
     "name": "stderr",
     "output_type": "stream",
     "text": [
      "c:\\Python\\Python3.10.5\\lib\\site-packages\\tqdm\\auto.py:22: TqdmWarning: IProgress not found. Please update jupyter and ipywidgets. See https://ipywidgets.readthedocs.io/en/stable/user_install.html\n",
      "  from .autonotebook import tqdm as notebook_tqdm\n"
     ]
    },
    {
     "name": "stdout",
     "output_type": "stream",
     "text": [
      "0.7071066904050358\n",
      "-------\n",
      "x1 -1.5000003851533106\n",
      "w1 1.0000002567688737\n",
      "x2 0.5000001283844369\n",
      "w2 0.0\n"
     ]
    }
   ],
   "source": [
    "import torch\n",
    "\n",
    "x1 = torch.Tensor([2.0]).double()               ; x1.requires_grad = True\n",
    "x2 = torch.Tensor([0.0]).double()               ; x2.requires_grad = True\n",
    "w1 = torch.Tensor([-3.0]).double()              ; w1.requires_grad = True\n",
    "w2 = torch.Tensor([1.0]).double()               ; w2.requires_grad = True\n",
    "b = torch.Tensor([6.8813735870195432]).double() ; b.requires_grad = True\n",
    "n = x1*w1 + x2*w2 + b\n",
    "o = torch.tanh(n)\n",
    "\n",
    "print(o.data.item())\n",
    "o.backward()\n",
    "\n",
    "\n",
    "print(\"-------\")\n",
    "print('x1', x1.grad.item())\n",
    "print('w1', w1.grad.item())\n",
    "print('x2', x2.grad.item())\n",
    "print('w2', w2.grad.item())"
   ]
  },
  {
   "cell_type": "code",
   "execution_count": 12,
   "metadata": {},
   "outputs": [],
   "source": [
    "# import random\n",
    "# class Neuron:\n",
    "\n",
    "#     def __init__(self, nin):\n",
    "#         self.w = [(Value(random.uniform(-1, 1))) for _ in range(nin)]\n",
    "#         self.b = Value(random.uniform(-1, 1))\n",
    "\n",
    "#     def parameters(self):\n",
    "#         return self.w + [self.b]\n",
    "\n",
    "#     def __call__(self, x):\n",
    "#         # w*x + b\n",
    "#         act = sum((wi*xi for wi, xi in zip(self.w, x)), self.b)\n",
    "#         out = act.tanh()\n",
    "#         return out\n",
    "\n",
    "# class Layer:\n",
    "\n",
    "#     def __init__(self, nin, nout):\n",
    "#         self.neurons = [Neuron(nin) for _ in range(nout)]\n",
    "\n",
    "#     def __call__(self, x):\n",
    "#         outs = [n(x) for n in self.neurons]\n",
    "#         return outs[0] if len(outs) == 1 else outs\n",
    "\n",
    "#     def parameters(self):\n",
    "#         return [p for neuron in self.neurons for p in neuron.parameters()]\n",
    "\n",
    "# class MLP:\n",
    "\n",
    "#     def __init__(self, nin, nouts):\n",
    "#         sz = [nin] + nouts\n",
    "#         self.layers = [Layer(sz[i], sz[i+1]) for i in range(len(nouts))]\n",
    "\n",
    "#     def __call__(self, x):\n",
    "#         for layer in self.layers:\n",
    "#             x = layer(x)\n",
    "#         return x\n",
    "\n",
    "#     def parameters(self):\n",
    "#         return [p for layer in self.layers for p in layer.parameters()]\n"
   ]
  },
  {
   "cell_type": "code",
   "execution_count": 13,
   "metadata": {},
   "outputs": [],
   "source": [
    "xs = [\n",
    "    [5.0, 3.0, -1.0],\n",
    "    [3.0, -1.0, 0.5],\n",
    "    [0.5, 1.0, 1.0],\n",
    "    [1.0, 1.0, -1.0],\n",
    "]\n",
    "ys = [1.0, -1.0, -1.0, 1.0]"
   ]
  },
  {
   "cell_type": "code",
   "execution_count": 14,
   "metadata": {},
   "outputs": [],
   "source": [
    "n = MLP(3, [4, 4, 1])"
   ]
  },
  {
   "cell_type": "code",
   "execution_count": 15,
   "metadata": {},
   "outputs": [
    {
     "name": "stdout",
     "output_type": "stream",
     "text": [
      "Value(data=7.269997547251145 )\n"
     ]
    }
   ],
   "source": [
    "ypred = [n(x)for x in xs]\n",
    "ypred\n",
    "# ygt is y ground truth\n",
    "loss = sum([(yout - ygt)**2 for ygt, yout in zip(ys, ypred)])\n",
    "print(loss)\n",
    "loss.backward()"
   ]
  },
  {
   "cell_type": "code",
   "execution_count": 50,
   "metadata": {},
   "outputs": [
    {
     "name": "stdout",
     "output_type": "stream",
     "text": [
      "0 0.0002971956237015429\n",
      "1 0.0002967233527592623\n",
      "2 0.0002962525521040148\n",
      "3 0.0002957832149364088\n",
      "4 0.00029531533449870075\n",
      "5 0.0002948489040745044\n",
      "6 0.0002943839169884529\n",
      "7 0.000293920366605909\n",
      "8 0.0002934582463326371\n",
      "9 0.00029299754961452075\n",
      "10 0.00029253826993723815\n",
      "11 0.0002920804008259499\n",
      "12 0.00029162393584505257\n",
      "13 0.00029116886859782373\n",
      "14 0.00029071519272617246\n",
      "15 0.00029026290191031814\n",
      "16 0.0002898119898685164\n",
      "17 0.00028936245035679194\n",
      "18 0.00028891427716862554\n",
      "19 0.0002884674641346874\n"
     ]
    }
   ],
   "source": [
    "for k in range(20):\n",
    "\n",
    "    # forward pass\n",
    "    ypred = [n(x) for x in xs]\n",
    "    loss = sum([(yout - ygt)**2 for ygt, yout in zip(ys, ypred)])\n",
    "\n",
    "    # backward pass\n",
    "    for p in n.parameters():\n",
    "        p.grad = 0.0\n",
    "    loss.backward()\n",
    "\n",
    "    # update \n",
    "    for p in n.parameters():\n",
    "        p.data += -0.1 * p.grad\n",
    "\n",
    "    print(k, loss.data)\n",
    "\n",
    "    "
   ]
  }
 ],
 "metadata": {
  "kernelspec": {
   "display_name": "Python 3",
   "language": "python",
   "name": "python3"
  },
  "language_info": {
   "codemirror_mode": {
    "name": "ipython",
    "version": 3
   },
   "file_extension": ".py",
   "mimetype": "text/x-python",
   "name": "python",
   "nbconvert_exporter": "python",
   "pygments_lexer": "ipython3",
   "version": "3.10.5"
  },
  "orig_nbformat": 4
 },
 "nbformat": 4,
 "nbformat_minor": 2
}
