{
 "cells": [
  {
   "cell_type": "code",
   "execution_count": 1,
   "metadata": {},
   "outputs": [
    {
     "name": "stderr",
     "output_type": "stream",
     "text": [
      "c:\\Python\\Python3.10.5\\lib\\site-packages\\tqdm\\auto.py:22: TqdmWarning: IProgress not found. Please update jupyter and ipywidgets. See https://ipywidgets.readthedocs.io/en/stable/user_install.html\n",
      "  from .autonotebook import tqdm as notebook_tqdm\n"
     ]
    }
   ],
   "source": [
    "import random\n",
    "import torch\n",
    "import matplotlib.pyplot as plt"
   ]
  },
  {
   "cell_type": "code",
   "execution_count": 2,
   "metadata": {},
   "outputs": [
    {
     "data": {
      "text/plain": [
       "32033"
      ]
     },
     "execution_count": 2,
     "metadata": {},
     "output_type": "execute_result"
    }
   ],
   "source": [
    "with open('names.txt', 'r') as file:\n",
    "    words = file.read().splitlines()\n",
    "len(words)"
   ]
  },
  {
   "attachments": {},
   "cell_type": "markdown",
   "metadata": {},
   "source": [
    "Generate the trigrams"
   ]
  },
  {
   "cell_type": "code",
   "execution_count": 3,
   "metadata": {},
   "outputs": [
    {
     "name": "stdout",
     "output_type": "stream",
     "text": [
      "6037\n"
     ]
    }
   ],
   "source": [
    "trigrams = {}\n",
    "for w in words:\n",
    "    chs = ['.'] + list(w) + ['.']\n",
    "\n",
    "    for ch1, ch2, ch3 in zip(chs, chs[1:], chs[2:]):\n",
    "        trigram = (ch1, ch2, ch3)\n",
    "        trigrams[trigram] = trigrams.get(trigram, 0) + 1\n",
    "        #print(ch1, ch2, ch3)\n",
    "\n",
    "sorted(trigrams.items(), key = lambda kv: -kv[1])\n",
    "print(len(sorted(trigrams.items(), key = lambda kv: -kv[1])))"
   ]
  },
  {
   "attachments": {},
   "cell_type": "markdown",
   "metadata": {},
   "source": [
    "string to integer and integer to string conversions"
   ]
  },
  {
   "cell_type": "code",
   "execution_count": 4,
   "metadata": {},
   "outputs": [],
   "source": [
    "chars = sorted(list(set(''.join(words))))\n",
    "stoi = {s:i+1 for i, s in enumerate(chars)} # String to Int\n",
    "stoi['.'] = 0\n",
    "itos = {i:s for s,i in stoi.items()} # Int to String"
   ]
  },
  {
   "attachments": {},
   "cell_type": "markdown",
   "metadata": {},
   "source": [
    "Collect the distribution of trigrams within the names data"
   ]
  },
  {
   "cell_type": "code",
   "execution_count": 5,
   "metadata": {},
   "outputs": [],
   "source": [
    "N = torch.zeros((27, 27, 27), dtype=torch.int32)\n",
    "for w in words:\n",
    "    chs = ['.'] + list(w) + ['.']\n",
    "    for ch1, ch2, ch3 in zip(chs, chs[1:], chs[2:]):\n",
    "\n",
    "        ix1 = stoi[ch1]\n",
    "        ix2 = stoi[ch2]\n",
    "        ix3 = stoi[ch3]\n",
    "        N[ix1, ix2, ix3] += 1"
   ]
  },
  {
   "cell_type": "code",
   "execution_count": 6,
   "metadata": {},
   "outputs": [],
   "source": [
    "# Dim 1 ,  2,  3\n",
    "#     27, 27, 27\n",
    "#     27, 27,  1"
   ]
  },
  {
   "cell_type": "code",
   "execution_count": 7,
   "metadata": {},
   "outputs": [],
   "source": [
    "# second letter probs are the sum of the third letter probs for each second letter\n",
    "P_2 = (N+1).float().sum(2)\n",
    "P_2 = P_2 / P_2.sum(1, keepdim=True)"
   ]
  },
  {
   "cell_type": "code",
   "execution_count": 8,
   "metadata": {},
   "outputs": [],
   "source": [
    "# probability of the 3rd letter given the other 2\n",
    "P_3 = (N+1).float()\n",
    "P_3 = P_3/ P_3.sum(2, keepdim=True)"
   ]
  },
  {
   "attachments": {},
   "cell_type": "markdown",
   "metadata": {},
   "source": [
    "This approach generates the second letter as with the bigrams and subsequent letters with trigrams"
   ]
  },
  {
   "cell_type": "code",
   "execution_count": 9,
   "metadata": {},
   "outputs": [
    {
     "name": "stdout",
     "output_type": "stream",
     "text": [
      "miq.\n",
      "axx.\n",
      "mereyannyaar.\n",
      "knooraen.\n",
      "el.\n"
     ]
    }
   ],
   "source": [
    "g = torch.Generator().manual_seed(2147483647)\n",
    "for i in range(5):\n",
    "    out = []\n",
    "    ix1 = 0\n",
    "    # generate first\n",
    "    p_2 = P_2[ix1]\n",
    "    ix2 = torch.multinomial(p_2, num_samples=1, replacement=True, generator=g).item()\n",
    "    out.append(itos[ix2])\n",
    "    while True:\n",
    "        p_3 = P_3[ix1][ix2]\n",
    "        ix1 = ix2\n",
    "        ix2 = torch.multinomial(p_3, num_samples=1, replacement=True, generator=g).item()\n",
    "        out.append(itos[ix2])\n",
    "        if ix2 == 0:\n",
    "            break\n",
    "    print(''.join(out))"
   ]
  },
  {
   "attachments": {},
   "cell_type": "markdown",
   "metadata": {},
   "source": [
    "This approach generates all letters with trigrams"
   ]
  },
  {
   "cell_type": "code",
   "execution_count": 10,
   "metadata": {},
   "outputs": [
    {
     "name": "stdout",
     "output_type": "stream",
     "text": [
      "quia.\n",
      "yu.\n",
      "quinslyntien.\n",
      "nolliahi.\n",
      "ha.\n"
     ]
    }
   ],
   "source": [
    "g = torch.Generator().manual_seed(2147483647)\n",
    "for i in range(5):\n",
    "    out = []\n",
    "    ix1, ix2 = 0, 0\n",
    "    while True:\n",
    "        p_3 = P_3[ix1][ix2]\n",
    "        ix1 = ix2\n",
    "        ix2 = torch.multinomial(p_3, num_samples=1, replacement=True, generator=g).item()\n",
    "        out.append(itos[ix2])\n",
    "        if ix2 == 0:\n",
    "            break\n",
    "    #print(f\"{ix1}, {ix2}\")\n",
    "    print(''.join(out))"
   ]
  },
  {
   "attachments": {},
   "cell_type": "markdown",
   "metadata": {},
   "source": [
    "The next cells go through determining the loss of the probability distribution"
   ]
  },
  {
   "cell_type": "code",
   "execution_count": 11,
   "metadata": {},
   "outputs": [],
   "source": [
    "xs , ys = [], []\n",
    "\n",
    "for w in words:\n",
    "    chs = ['.'] + list(w) + ['.']\n",
    "    # print(w)\n",
    "    for ch1, ch2, ch3 in zip(chs, chs[1:], chs[2:]):\n",
    "        # print(ch1 + ch2 + ch3)\n",
    "        ix1 = stoi[ch1]\n",
    "        ix2 = stoi[ch2]\n",
    "        ix3 = stoi[ch3]\n",
    "        xs.append([ix1, ix2])\n",
    "        ys.append(ix3)\n",
    "\n",
    "xs = torch.tensor(xs)\n",
    "ys = torch.tensor(ys)\n"
   ]
  },
  {
   "cell_type": "code",
   "execution_count": 12,
   "metadata": {},
   "outputs": [
    {
     "data": {
      "text/plain": [
       "tensor([[ 0,  5],\n",
       "        [ 5, 13],\n",
       "        [13, 13],\n",
       "        ...,\n",
       "        [26, 25],\n",
       "        [25, 26],\n",
       "        [26, 24]])"
      ]
     },
     "execution_count": 12,
     "metadata": {},
     "output_type": "execute_result"
    }
   ],
   "source": [
    "xs"
   ]
  },
  {
   "cell_type": "code",
   "execution_count": 13,
   "metadata": {},
   "outputs": [
    {
     "data": {
      "text/plain": [
       "tensor([13, 13,  1,  ..., 26, 24,  0])"
      ]
     },
     "execution_count": 13,
     "metadata": {},
     "output_type": "execute_result"
    }
   ],
   "source": [
    "ys"
   ]
  },
  {
   "cell_type": "code",
   "execution_count": 14,
   "metadata": {},
   "outputs": [
    {
     "name": "stdout",
     "output_type": "stream",
     "text": [
      "---------\n",
      "trigram example 1: .em (indices 0,5,13)\n",
      "input to the neural net: 0 5\n",
      "output probabilities: tensor([0.0006, 0.0154, 0.0103, 0.0032, 0.0520, 0.0064, 0.0071, 0.0045, 0.0064,\n",
      "        0.0353, 0.0026, 0.0058, 0.3139, 0.1855, 0.0392, 0.0032, 0.0058, 0.0006,\n",
      "        0.0584, 0.0603, 0.0135, 0.0141, 0.0995, 0.0032, 0.0032, 0.0160, 0.0340])\n",
      "label (actual next character): 13\n",
      "Probability of the correct character: 0.18549422919750214\n",
      "log likelihood -1.6847314834594727\n",
      "negative log likelihood 1.6847314834594727\n",
      "---------\n",
      "trigram example 2: emm (indices 5,13,13)\n",
      "input to the neural net: 5 13\n",
      "output probabilities: tensor([0.1621, 0.1771, 0.0352, 0.0013, 0.0013, 0.1018, 0.0013, 0.0013, 0.0013,\n",
      "        0.2023, 0.0025, 0.0013, 0.0038, 0.1269, 0.0050, 0.0590, 0.0239, 0.0013,\n",
      "        0.0276, 0.0050, 0.0013, 0.0151, 0.0013, 0.0013, 0.0013, 0.0377, 0.0013])\n",
      "label (actual next character): 13\n",
      "Probability of the correct character: 0.12688441574573517\n",
      "log likelihood -2.064478635787964\n",
      "negative log likelihood 2.064478635787964\n",
      "---------\n",
      "trigram example 3: mma (indices 13,13,1)\n",
      "input to the neural net: 13 13\n",
      "output probabilities: tensor([0.0154, 0.3744, 0.0051, 0.0051, 0.0051, 0.1744, 0.0051, 0.0051, 0.0051,\n",
      "        0.1897, 0.0051, 0.0051, 0.0051, 0.0051, 0.0051, 0.0308, 0.0051, 0.0051,\n",
      "        0.0154, 0.0051, 0.0051, 0.0103, 0.0051, 0.0051, 0.0051, 0.0923, 0.0051])\n",
      "label (actual next character): 1\n",
      "Probability of the correct character: 0.37435898184776306\n",
      "log likelihood -0.9825401306152344\n",
      "negative log likelihood 0.9825401306152344\n",
      "---------\n",
      "trigram example 4: ma. (indices 13,1,0)\n",
      "input to the neural net: 13 1\n",
      "output probabilities: tensor([0.0669, 0.0157, 0.0050, 0.0298, 0.0524, 0.0313, 0.0008, 0.0107, 0.0344,\n",
      "        0.0462, 0.0092, 0.0420, 0.0806, 0.0034, 0.1051, 0.0008, 0.0008, 0.0004,\n",
      "        0.2969, 0.0187, 0.0378, 0.0145, 0.0084, 0.0019, 0.0176, 0.0588, 0.0099])\n",
      "label (actual next character): 0\n",
      "Probability of the correct character: 0.06687046587467194\n",
      "log likelihood -2.7049977779388428\n",
      "negative log likelihood 2.7049977779388428\n",
      "==========\n",
      "average negative log likelihood 1.4873497486114502\n"
     ]
    }
   ],
   "source": [
    "nlls = torch.zeros(5)\n",
    "\n",
    "for i in range(4):\n",
    "    x1 , x2 = xs[i][0].item(), xs[i][1].item()\n",
    "    y = ys[i].item()\n",
    "    print('---------')\n",
    "    print(f'trigram example {i+1}: {itos[x1]}{itos[x2]}{itos[y]} (indices {x1},{x2},{y})')\n",
    "    print('input to the neural net:', x1, x2)\n",
    "    print('output probabilities:', P_3[x1][x2])\n",
    "    print('label (actual next character):', y)\n",
    "    p = P_3[x1][x2][y]\n",
    "    print('Probability of the correct character:', p.item())\n",
    "    logp = torch.log(p)\n",
    "    print('log likelihood', logp.item())\n",
    "    nll = -logp\n",
    "    print('negative log likelihood', nll.item())\n",
    "    nlls[i] = nll\n",
    "\n",
    "print('==========')\n",
    "print('average negative log likelihood', nlls.mean().item())"
   ]
  },
  {
   "cell_type": "code",
   "execution_count": 15,
   "metadata": {},
   "outputs": [
    {
     "name": "stdout",
     "output_type": "stream",
     "text": [
      "2.0930798053741455\n"
     ]
    }
   ],
   "source": [
    "n =  len(xs)\n",
    "nlls = torch.zeros(n)\n",
    "for i, x in enumerate(xs):\n",
    "    x1, x2 = x[0].item(), x[1].item()\n",
    "    y = ys[i].item()\n",
    "    p = P_3[x1, x2, y]\n",
    "    nlls[i]= -torch.log(p).item()\n",
    "print(nlls.mean().item())\n"
   ]
  },
  {
   "attachments": {},
   "cell_type": "markdown",
   "metadata": {},
   "source": [
    "It seems that the trigram generation from the probalities outperforms the bigram model."
   ]
  },
  {
   "attachments": {},
   "cell_type": "markdown",
   "metadata": {},
   "source": [
    "Now for training a neural net to replicate the statistical distribution through backpropogation"
   ]
  },
  {
   "cell_type": "code",
   "execution_count": 16,
   "metadata": {},
   "outputs": [],
   "source": [
    "xs , ys = [], []\n",
    "\n",
    "for w in words:\n",
    "    chs = ['.'] + list(w) + ['.']\n",
    "    # print(w)\n",
    "    for ch1, ch2, ch3 in zip(chs, chs[1:], chs[2:]):\n",
    "        # print(ch1 + ch2 + ch3)\n",
    "        ix1 = stoi[ch1]\n",
    "        ix2 = stoi[ch2]\n",
    "        ix3 = stoi[ch3]\n",
    "        xs.append([ix1, ix2])\n",
    "        ys.append(ix3)\n",
    "\n",
    "xs = torch.tensor(xs)\n",
    "ys = torch.tensor(ys)"
   ]
  },
  {
   "cell_type": "code",
   "execution_count": 17,
   "metadata": {},
   "outputs": [],
   "source": [
    "import torch.nn.functional as F"
   ]
  },
  {
   "attachments": {},
   "cell_type": "markdown",
   "metadata": {},
   "source": [
    "For completeness I will encode the 2 letters in a 27X27* matrix even though its possible to do it in a 1X54 or 2X27 encoding.\n",
    "\n",
    "/* At the end i realised this approach is not actually any different to the bigrams as I inadvertantly just made a model that works with the second letter of the trigram only."
   ]
  },
  {
   "cell_type": "code",
   "execution_count": 18,
   "metadata": {},
   "outputs": [],
   "source": [
    "g = torch.Generator().manual_seed(2145483647)\n",
    "W = torch.randn((27, 27), generator=g, requires_grad=True)\n",
    "W1 = torch.ones((1, 27))"
   ]
  },
  {
   "cell_type": "code",
   "execution_count": 19,
   "metadata": {},
   "outputs": [
    {
     "name": "stdout",
     "output_type": "stream",
     "text": [
      "torch.Size([196113, 27, 27])\n"
     ]
    }
   ],
   "source": [
    "xenc = F.one_hot(xs, num_classes=27).float()\n",
    "xenc_27x27 = torch.zeros((196113,27,27))\n",
    "print(xenc_27x27.shape)\n",
    "for i, x in enumerate(xenc):\n",
    "    i1 = xenc[i][0].nonzero()\n",
    "    i2 = xenc[i][1].nonzero()\n",
    "    xenc_27x27[i,i1, i2] +=1"
   ]
  },
  {
   "cell_type": "code",
   "execution_count": 20,
   "metadata": {},
   "outputs": [
    {
     "name": "stdout",
     "output_type": "stream",
     "text": [
      "Final loss: 2.43\n"
     ]
    },
    {
     "data": {
      "image/png": "[encoded data removed]",
      "text/plain": [
       "<Figure size 432x288 with 1 Axes>"
      ]
     },
     "metadata": {
      "needs_background": "light"
     },
     "output_type": "display_data"
    }
   ],
   "source": [
    "losses = [[],[]]\n",
    "epochs = 100\n",
    "count = 0\n",
    "for k in range(epochs):\n",
    "    # Forward\n",
    "    out = xenc_27x27 @ W\n",
    "    # print(out.shape)\n",
    "    out = torch.squeeze((W1 @ out))\n",
    "    # print(out.shape)\n",
    "    # Softmax\n",
    "    counts = out.exp()\n",
    "    probs = counts/counts.sum(1, keepdim=True)\n",
    "    loss = -probs[torch.arange(196113), ys].log().mean() + 0.01*(W**2).mean()\n",
    "    \n",
    "    losses[0].append(k)\n",
    "    losses[1].append(loss.item())\n",
    "\n",
    "    W.grad=None\n",
    "    loss.backward()\n",
    "\n",
    "    W.data += -50*W.grad\n",
    "\n",
    "    if k > 0 and abs(losses[1][k] - losses[1][k-1]) <= 0.001:\n",
    "        count += 1\n",
    "    else:\n",
    "        count = 0\n",
    "    if count == 10:\n",
    "        break\n",
    "\n",
    "plt.plot(losses[0], losses[1]);\n",
    "print(f\"Final loss: {loss.item():.2f}\")\n"
   ]
  },
  {
   "cell_type": "code",
   "execution_count": 21,
   "metadata": {},
   "outputs": [
    {
     "data": {
      "text/plain": [
       "<matplotlib.image.AxesImage at 0x17bd88620b0>"
      ]
     },
     "execution_count": 21,
     "metadata": {},
     "output_type": "execute_result"
    },
    {
     "data": {
      "image/png": "[encoded data removed]",
      "text/plain": [
       "<Figure size 432x288 with 1 Axes>"
      ]
     },
     "metadata": {
      "needs_background": "light"
     },
     "output_type": "display_data"
    }
   ],
   "source": [
    "plt.imshow(W.detach().numpy())"
   ]
  },
  {
   "cell_type": "code",
   "execution_count": 22,
   "metadata": {},
   "outputs": [
    {
     "data": {
      "text/plain": [
       "<matplotlib.image.AxesImage at 0x17bd898f0d0>"
      ]
     },
     "execution_count": 22,
     "metadata": {},
     "output_type": "execute_result"
    },
    {
     "data": {
      "image/png": "[encoded data removed]",
      "text/plain": [
       "<Figure size 432x288 with 1 Axes>"
      ]
     },
     "metadata": {
      "needs_background": "light"
     },
     "output_type": "display_data"
    }
   ],
   "source": [
    "result = (xenc_27x27[4] @ W)\n",
    "plt.imshow(result.detach().numpy())\n"
   ]
  },
  {
   "attachments": {},
   "cell_type": "markdown",
   "metadata": {},
   "source": [
    "This outperformed the bigram model at the same number of epochs and training rate. I have realised that this is actually not performing as expected and only the second letter of the trigram is actually doing anything."
   ]
  },
  {
   "cell_type": "code",
   "execution_count": 23,
   "metadata": {},
   "outputs": [
    {
     "name": "stdout",
     "output_type": "stream",
     "text": [
      "oso.\n",
      "axy.\n",
      "ninaynnnyles.\n",
      "kondmaisah.\n",
      ".\n",
      "ondwioy.\n",
      "sie.\n",
      "rabren.\n",
      "jaddash.\n",
      "jallligshan.\n",
      "idyrer.\n",
      "ia.\n",
      "t.\n",
      "cajayn.\n",
      "jeimannariaenien.\n",
      "da.\n",
      "i.\n",
      "bhijema.\n",
      ".\n",
      "usttanakerorvaeyaaxbrina.\n",
      "n.\n",
      "ksyonvrkiedengkh.\n",
      "torrederahmokallovyllqcosjeca.\n",
      "vai.\n",
      "micg.\n",
      "jahemenelgha.\n",
      "ljanv.\n",
      "ioyly.\n",
      "ydahaha.\n",
      "kayynnantsinn.\n"
     ]
    }
   ],
   "source": [
    "g = torch.Generator().manual_seed(2147483647)\n",
    "for i in range(30):\n",
    "    word_out = []\n",
    "    ix1 = 0\n",
    "    ix2 = 0 \n",
    "    while True:  \n",
    "        xenc = F.one_hot(torch.tensor([ix1, ix2]), num_classes=27).float()\n",
    "        i1 = xenc[0].nonzero()\n",
    "        i2 = xenc[1].nonzero()\n",
    "        xenc_27x27 = torch.zeros(27, 27)\n",
    "        xenc_27x27[i1, i2] +=1\n",
    "        out = xenc_27x27 @ W\n",
    "        out = torch.squeeze((W1 @ out))\n",
    "        counts = out.exp()\n",
    "        p = counts/counts.sum()\n",
    "        \n",
    "        ix2 = torch.multinomial(p, num_samples=1, replacement=True, generator=g).item() \n",
    "        word_out.append(itos[ix2])\n",
    "        if ix2 == 0:\n",
    "            break\n",
    "    print(''.join(word_out))"
   ]
  },
  {
   "attachments": {},
   "cell_type": "markdown",
   "metadata": {},
   "source": [
    "Trying again with 54X27"
   ]
  },
  {
   "cell_type": "code",
   "execution_count": 24,
   "metadata": {},
   "outputs": [],
   "source": [
    "g = torch.Generator().manual_seed(2147483647)\n",
    "xenc_1x54 = F.one_hot(xs, num_classes=27).float().flatten(start_dim=1)\n",
    "W3 = torch.randn((54, 27), generator=g, requires_grad= True)\n"
   ]
  },
  {
   "cell_type": "code",
   "execution_count": 25,
   "metadata": {},
   "outputs": [
    {
     "name": "stdout",
     "output_type": "stream",
     "text": [
      "Final loss: 2.55\n"
     ]
    },
    {
     "data": {
      "image/png": "[encoded data removed]",
      "text/plain": [
       "<Figure size 432x288 with 1 Axes>"
      ]
     },
     "metadata": {
      "needs_background": "light"
     },
     "output_type": "display_data"
    }
   ],
   "source": [
    "losses = [[],[]]\n",
    "epochs = 100\n",
    "for k in range(epochs):\n",
    "    # Forward\n",
    "    out = xenc_1x54 @ W3\n",
    "\n",
    "    counts = out.exp()\n",
    "    probs = counts/counts.sum(1, keepdim=True)\n",
    "    loss = -probs[torch.arange(len(ys)), ys].log().mean() + (W3**2).mean()\n",
    "    losses[0].append(k)\n",
    "    losses[1].append(loss.item())\n",
    "\n",
    "    W3.grad=None\n",
    "    loss.backward()\n",
    "    W3.data += -50*W3.grad\n",
    "\n",
    "    if k > 0 and abs(losses[1][k] - losses[1][k-1]) <= 0.0001:\n",
    "        count += 1\n",
    "    else:\n",
    "        count = 0\n",
    "    if count == 10:\n",
    "        break\n",
    "\n",
    "plt.plot(losses[0], losses[1]);\n",
    "print(f\"Final loss: {loss.item():.2f}\")\n"
   ]
  },
  {
   "cell_type": "code",
   "execution_count": 26,
   "metadata": {},
   "outputs": [
    {
     "name": "stdout",
     "output_type": "stream",
     "text": [
      "otp.\n",
      "ayt.\n",
      "oriivitqzles.\n",
      "konen.\n",
      "grae.\n",
      "apklyknzasle.\n",
      "raanaiadah.\n",
      "driabellnmetjeraefyujs.\n",
      "ee.\n",
      "va.\n",
      "aliyn.\n",
      "halialshoradlmer.\n",
      "ah.\n",
      "ea.\n",
      "hilina.\n",
      "aynrranedispqxcgzcewdwpon.\n",
      "nahryshxxsphanilin.\n",
      "worshann.\n",
      "estdelltyxlrsaston.\n",
      "aay.\n",
      "fann.\n",
      "halgenagllilel.\n",
      "lialy.\n",
      "erylu.\n",
      "zeffigh.\n",
      "kayynnamyrioras.\n",
      "uarla.\n",
      "ktulinvisanlaelleelit.\n",
      "bonia.\n",
      "uadieplfffxheuajprchtl.\n"
     ]
    }
   ],
   "source": [
    "g = torch.Generator().manual_seed(2147483647)\n",
    "for i in range(30):\n",
    "    word_out = []\n",
    "    ix1 = 0\n",
    "    ix2 = 0 \n",
    "    while True:  \n",
    "        xenc_1x54 = F.one_hot(torch.tensor([ix1, ix2]), num_classes=27).float().flatten()\n",
    "        out = xenc_1x54 @ W3\n",
    "        counts = out.exp()\n",
    "        p = counts/counts.sum()\n",
    "        \n",
    "        ix1 = ix2\n",
    "        ix2 = torch.multinomial(p, num_samples=1, replacement=True, generator=g).item() \n",
    "        word_out.append(itos[ix2])\n",
    "        if ix2 == 0:\n",
    "            break\n",
    "    print(''.join(word_out))"
   ]
  },
  {
   "cell_type": "code",
   "execution_count": 27,
   "metadata": {},
   "outputs": [
    {
     "data": {
      "text/plain": [
       "<matplotlib.image.AxesImage at 0x17bd846a7a0>"
      ]
     },
     "execution_count": 27,
     "metadata": {},
     "output_type": "execute_result"
    },
    {
     "data": {
      "image/png": "[encoded data removed]",
      "text/plain": [
       "<Figure size 432x288 with 1 Axes>"
      ]
     },
     "metadata": {
      "needs_background": "light"
     },
     "output_type": "display_data"
    }
   ],
   "source": [
    "plt.imshow(W3.detach().numpy())\n",
    "plt.imshow(W3.grad)"
   ]
  },
  {
   "attachments": {},
   "cell_type": "markdown",
   "metadata": {},
   "source": [
    "The 1X54 multiplied by 54X27 is the only method that completes quick enough it is however not a 'True' trigram model and istead functions by essentially summing up 2 bigram models. one taking the first and third letter and the other taking the second and third\n"
   ]
  },
  {
   "cell_type": "code",
   "execution_count": 28,
   "metadata": {},
   "outputs": [],
   "source": [
    "# xenc = F.one_hot(xs, num_classes=27).float()\n",
    "# i1 = xenc[0].nonzero()\n",
    "# i2 = xenc[1].nonzero()\n",
    "# xenc_27x27 = torch.zeros((196113,27,27))\n",
    "# for i, x in enumerate(xenc):\n",
    "#     i1 = xenc[i][0].nonzero()\n",
    "#     i2 = xenc[i][1].nonzero()\n",
    "#     xenc_27x27[i,i1, i2] +=1\n",
    "# g = torch.Generator().manual_seed(2147483647)\n",
    "# W4 = torch.randn((27, 27, 27), generator=g, requires_grad=True)\n",
    "# out = torch.zeros((196113, 27, 27, 27))\n",
    "# out = xenc_27x27[0] @ W4\n",
    "#for i in range(5):\n",
    "    #out[i] = xenc_27x27[i] @ W4\n",
    "# doing 27x27x27 results in excess dimensions of the output which i am collapsing down using these W1 and W2\n",
    "# tensors, I wasn't sure on how else to do it.\n",
    "#W1 = torch.ones((1, 1, 27))\n",
    "#W2 = torch.ones((1, 27))\n",
    "\n",
    "\n",
    "# print(out.shape)\n",
    "# out1 = torch.squeeze((W1 @ out))\n",
    "# print(out1.shape)\n",
    "# out2 = torch.squeeze((W2 @ out1))\n",
    "# print(out2)\n",
    "# # Turns out this is far too slow\n",
    "# counts = out2.exp()\n",
    "# probs = counts/counts.sum(1, keepdim=True)\n",
    "# loss = -probs[torch.arange(196113), ys].log().mean()\n",
    "# print(loss.item())"
   ]
  },
  {
   "attachments": {},
   "cell_type": "markdown",
   "metadata": {},
   "source": [
    "Another approach with direct indexing allowing \n"
   ]
  },
  {
   "cell_type": "code",
   "execution_count": 29,
   "metadata": {},
   "outputs": [],
   "source": [
    "g = torch.Generator().manual_seed(2147483647)\n",
    "W4 = torch.randn((27, 27, 27), generator=g, requires_grad=True)"
   ]
  },
  {
   "cell_type": "code",
   "execution_count": 30,
   "metadata": {},
   "outputs": [
    {
     "name": "stdout",
     "output_type": "stream",
     "text": [
      "Final loss: 2.14\n"
     ]
    },
    {
     "data": {
      "image/png": "[encoded data removed]",
      "text/plain": [
       "<Figure size 432x288 with 1 Axes>"
      ]
     },
     "metadata": {
      "needs_background": "light"
     },
     "output_type": "display_data"
    }
   ],
   "source": [
    "losses = [[],[]]\n",
    "epochs = 1000\n",
    "count = 0\n",
    "for k in range(epochs):\n",
    "    logits = W4[xs[:,0], xs[:, 1],]\n",
    "    counts = logits.exp()\n",
    "    probs = counts/counts.sum(1, keepdim=True)\n",
    "\n",
    "    loss = -probs[torch.arange(len(ys)), ys].log().mean()\n",
    "    \n",
    "    losses[0].append(k)\n",
    "    losses[1].append(loss.item())\n",
    "\n",
    "    W4.grad = None\n",
    "    loss.backward()\n",
    "\n",
    "    W4.data += -50 * W4.grad\n",
    "\n",
    "    if k > 0 and abs(losses[1][k] - losses[1][k-1]) <= 0.0001:\n",
    "        count += 1\n",
    "    else:\n",
    "        count = 0\n",
    "    if count == 10:\n",
    "        break\n",
    "\n",
    "plt.plot(losses[0], losses[1]);\n",
    "print(f\"Final loss: {loss.item():.2f}\")"
   ]
  },
  {
   "cell_type": "code",
   "execution_count": 31,
   "metadata": {},
   "outputs": [
    {
     "data": {
      "text/plain": [
       "<matplotlib.image.AxesImage at 0x17be1197a60>"
      ]
     },
     "execution_count": 31,
     "metadata": {},
     "output_type": "execute_result"
    },
    {
     "data": {
      "image/png": "[encoded data removed]",
      "text/plain": [
       "<Figure size 432x288 with 1 Axes>"
      ]
     },
     "metadata": {
      "needs_background": "light"
     },
     "output_type": "display_data"
    }
   ],
   "source": [
    "plt.imshow(W4[1].detach().numpy())"
   ]
  },
  {
   "cell_type": "code",
   "execution_count": 32,
   "metadata": {},
   "outputs": [
    {
     "name": "stdout",
     "output_type": "stream",
     "text": [
      "uwa.\n",
      "axx.\n",
      "ton.\n",
      "zhvlzqgy.\n",
      "osellais.\n",
      "oe.\n",
      "uomsiny.\n",
      "yia.\n",
      "ya.\n",
      "yaiddeleena.\n",
      "okkpwlishaqrictwlt.\n",
      "oe.\n",
      "zaagenylainacelonikaireil.\n",
      "ge.\n",
      "oa.\n",
      "orendecavity.\n",
      "rhennfswady.\n",
      "kylorie.\n",
      "raivyontrina.\n",
      "porilaymmon.\n",
      "prcerreeannuwassarrin.\n",
      "gavalann.\n",
      "oakellekina.\n",
      "olani.\n",
      "ty.\n",
      "orylo.\n",
      "zafgjmoaleyvon.\n",
      "yutmnvio.\n",
      "zarle.\n",
      "ottemiyan.\n"
     ]
    }
   ],
   "source": [
    "g = torch.Generator().manual_seed(2147483647)\n",
    "for i in range(30):\n",
    "    word_out = []\n",
    "    ix1 = 0\n",
    "    ix2 = 0 \n",
    "    while True:  \n",
    "        out = W4[ix1, ix2]\n",
    "        counts = out.exp()\n",
    "        p = counts/counts.sum()\n",
    "        \n",
    "        ix1 = ix2\n",
    "        ix2 = torch.multinomial(p, num_samples=1, replacement=True, generator=g).item() \n",
    "        word_out.append(itos[ix2])\n",
    "        if ix2 == 0:\n",
    "            break\n",
    "    print(''.join(word_out))"
   ]
  },
  {
   "attachments": {},
   "cell_type": "markdown",
   "metadata": {},
   "source": [
    "Moving on to tuning hyperparameters and evaluating the model"
   ]
  },
  {
   "attachments": {},
   "cell_type": "markdown",
   "metadata": {},
   "source": [
    "Split into train, dev and test sets and perform processing."
   ]
  },
  {
   "cell_type": "code",
   "execution_count": 34,
   "metadata": {},
   "outputs": [],
   "source": [
    "g = torch.Generator().manual_seed(2147483647)\n",
    "sets = torch.utils.data.random_split(words, [0.8, 0.1, 0.1], generator=g)\n",
    "\n",
    "train = sets[0]\n",
    "dev = sets[1]\n",
    "test = sets[2]"
   ]
  },
  {
   "cell_type": "code",
   "execution_count": 35,
   "metadata": {},
   "outputs": [],
   "source": [
    "train_xs , train_ys = [], []\n",
    "\n",
    "for w in words:\n",
    "    chs = ['.'] + list(w) + ['.']\n",
    "    # print(w)\n",
    "    for ch1, ch2, ch3 in zip(chs, chs[1:], chs[2:]):\n",
    "        # print(ch1 + ch2 + ch3)\n",
    "        ix1 = stoi[ch1]\n",
    "        ix2 = stoi[ch2]\n",
    "        ix3 = stoi[ch3]\n",
    "        train_xs.append([ix1, ix2])\n",
    "        train_ys.append(ix3)\n",
    "\n",
    "train_xs = torch.tensor(train_xs)\n",
    "train_ys = torch.tensor(train_ys)"
   ]
  },
  {
   "cell_type": "code",
   "execution_count": 36,
   "metadata": {},
   "outputs": [],
   "source": [
    "dev_xs , dev_ys = [], []\n",
    "\n",
    "for w in words:\n",
    "    chs = ['.'] + list(w) + ['.']\n",
    "    # print(w)\n",
    "    for ch1, ch2, ch3 in zip(chs, chs[1:], chs[2:]):\n",
    "        # print(ch1 + ch2 + ch3)\n",
    "        ix1 = stoi[ch1]\n",
    "        ix2 = stoi[ch2]\n",
    "        ix3 = stoi[ch3]\n",
    "        dev_xs.append([ix1, ix2])\n",
    "        dev_ys.append(ix3)\n",
    "\n",
    "dev_xs = torch.tensor(dev_xs)\n",
    "dev_ys = torch.tensor(dev_ys)"
   ]
  },
  {
   "cell_type": "code",
   "execution_count": 37,
   "metadata": {},
   "outputs": [],
   "source": [
    "test_xs , test_ys = [], []\n",
    "\n",
    "for w in words:\n",
    "    chs = ['.'] + list(w) + ['.']\n",
    "    # print(w)\n",
    "    for ch1, ch2, ch3 in zip(chs, chs[1:], chs[2:]):\n",
    "        # print(ch1 + ch2 + ch3)\n",
    "        ix1 = stoi[ch1]\n",
    "        ix2 = stoi[ch2]\n",
    "        ix3 = stoi[ch3]\n",
    "        test_xs.append([ix1, ix2])\n",
    "        test_ys.append(ix3)\n",
    "\n",
    "test_xs = torch.tensor(test_xs)\n",
    "test_ys = torch.tensor(test_ys)"
   ]
  },
  {
   "cell_type": "code",
   "execution_count": 54,
   "metadata": {},
   "outputs": [
    {
     "name": "stdout",
     "output_type": "stream",
     "text": [
      "s=tensor(0.): train_loss=2.4025: dev_loss=2.4001: test_loss=2.4001:\n",
      "s=tensor(0.0100): train_loss=2.4216: dev_loss=2.4193: test_loss=2.4193:\n",
      "s=tensor(0.0200): train_loss=2.4405: dev_loss=2.4382: test_loss=2.4382:\n",
      "s=tensor(0.0300): train_loss=2.4592: dev_loss=2.4569: test_loss=2.4569:\n",
      "s=tensor(0.0400): train_loss=2.4776: dev_loss=2.4754: test_loss=2.4754:\n",
      "s=tensor(0.0500): train_loss=2.4959: dev_loss=2.4937: test_loss=2.4937:\n",
      "s=tensor(0.0600): train_loss=2.5139: dev_loss=2.5117: test_loss=2.5117:\n",
      "s=tensor(0.0700): train_loss=2.5317: dev_loss=2.5296: test_loss=2.5296:\n",
      "s=tensor(0.0800): train_loss=2.5493: dev_loss=2.5472: test_loss=2.5472:\n",
      "s=tensor(0.0900): train_loss=2.5666: dev_loss=2.5646: test_loss=2.5646:\n",
      "s=tensor(0.1000): train_loss=2.5838: dev_loss=2.5818: test_loss=2.5818:\n"
     ]
    }
   ],
   "source": [
    "smoothing_constants = torch.arange(0.00, 0.11, 0.01)\n",
    "epochs = 100\n",
    "losses = torch.zeros((3, len(smoothing_constants)))\n",
    "for i, s in enumerate(smoothing_constants):\n",
    "    g = torch.Generator().manual_seed(2147483647)\n",
    "    W_test = torch.randn((27, 27, 27), generator=g, requires_grad=True)\n",
    "    # Train\n",
    "    for k in range(epochs):\n",
    "        logits = W_test[train_xs[:,0], train_xs[:, 1],]\n",
    "        # counts = logits.exp()\n",
    "        # probs = counts/counts.sum(1, keepdim=True)\n",
    "\n",
    "        # train_loss = -probs[torch.arange(len(train_ys)), train_ys].log().mean() + s * (W_test**2).mean()\n",
    "        train_loss = F.cross_entropy(logits, train_ys, label_smoothing=s)\n",
    "        W_test.grad = None\n",
    "        train_loss.backward()\n",
    "        W_test.data += -50 * W_test.grad\n",
    "\n",
    "    losses[0, i] = train_loss.item()\n",
    "\n",
    "    logits = W_test[dev_xs[:,0], dev_xs[:, 1],]\n",
    "    # counts = logits.exp()\n",
    "    # probs = counts/counts.sum(1, keepdim=True)\n",
    "\n",
    "    # dev_loss = -probs[torch.arange(len(dev_ys)), dev_ys].log().mean() + s * (W_test**2).mean()\n",
    "    dev_loss = F.cross_entropy(logits, dev_ys, label_smoothing=s)\n",
    "    losses[1, i] = dev_loss.item()\n",
    "\n",
    "    # logits = W_test[test_xs[:,0], test_xs[:, 1],]\n",
    "    # counts = logits.exp()\n",
    "    # probs = counts/counts.sum(1, keepdim=True)\n",
    "\n",
    "    # test_loss = -probs[torch.arange(len(test_ys)), test_ys].log().mean() + s * (W_test**2).mean()\n",
    "    test_loss = F.cross_entropy(logits, test_ys, label_smoothing=s)\n",
    "    losses[2, i] = test_loss.item()\n",
    "\n",
    "    print(f\"{s=}: {train_loss=:.4f}: {dev_loss=:.4f}: {test_loss=:.4f}:\")\n"
   ]
  },
  {
   "cell_type": "code",
   "execution_count": 55,
   "metadata": {},
   "outputs": [
    {
     "data": {
      "image/png": "[encoded data removed]",
      "text/plain": [
       "<Figure size 432x288 with 1 Axes>"
      ]
     },
     "metadata": {
      "needs_background": "light"
     },
     "output_type": "display_data"
    }
   ],
   "source": [
    "smoothing_constants = torch.arange(0.00, 0.11, 0.01)\n",
    "plt.plot(smoothing_constants, losses[0].detach())\n",
    "plt.plot(smoothing_constants, losses[1].detach())\n",
    "plt.plot(smoothing_constants, losses[2].detach())\n",
    "plt.legend(['train_loss', 'dev_loss', 'test_loss']);"
   ]
  },
  {
   "attachments": {},
   "cell_type": "markdown",
   "metadata": {},
   "source": [
    "Smoothing_constants are not appearing to help in this case as with bigrams"
   ]
  },
  {
   "attachments": {},
   "cell_type": "markdown",
   "metadata": {},
   "source": [
    "Learning rate"
   ]
  },
  {
   "cell_type": "code",
   "execution_count": 78,
   "metadata": {},
   "outputs": [
    {
     "name": "stdout",
     "output_type": "stream",
     "text": [
      "lr=tensor(300): train_loss=2.1436: dev_loss=2.1429: test_loss=2.1429:\n",
      "lr=tensor(310): train_loss=2.1414: dev_loss=2.1407: test_loss=2.1407:\n",
      "lr=tensor(320): train_loss=2.1399: dev_loss=2.1394: test_loss=2.1394:\n",
      "lr=tensor(330): train_loss=2.1383: dev_loss=2.1382: test_loss=2.1382:\n",
      "lr=tensor(340): train_loss=2.1368: dev_loss=2.1372: test_loss=2.1372:\n",
      "lr=tensor(350): train_loss=2.1354: dev_loss=2.1362: test_loss=2.1362:\n",
      "lr=tensor(360): train_loss=2.1340: dev_loss=2.1353: test_loss=2.1353:\n",
      "lr=tensor(370): train_loss=2.1327: dev_loss=2.1346: test_loss=2.1346:\n",
      "lr=tensor(380): train_loss=2.1314: dev_loss=2.1339: test_loss=2.1339:\n",
      "lr=tensor(390): train_loss=2.1302: dev_loss=2.1332: test_loss=2.1332:\n",
      "lr=tensor(400): train_loss=2.1290: dev_loss=2.1327: test_loss=2.1327:\n",
      "lr=tensor(410): train_loss=2.1279: dev_loss=2.1322: test_loss=2.1322:\n",
      "lr=tensor(420): train_loss=2.1268: dev_loss=2.1317: test_loss=2.1317:\n",
      "lr=tensor(430): train_loss=2.1269: dev_loss=2.1342: test_loss=2.1342:\n",
      "lr=tensor(440): train_loss=2.1265: dev_loss=2.1354: test_loss=2.1354:\n"
     ]
    }
   ],
   "source": [
    "lrs = torch.arange(300, 450, 10)\n",
    "epochs = 100\n",
    "losses = torch.zeros((3, len(lrs)))\n",
    "for i, lr in enumerate(lrs):\n",
    "    g = torch.Generator().manual_seed(2147483647)\n",
    "    W_test = torch.randn((27, 27, 27), generator=g, requires_grad=True)\n",
    "    # Train\n",
    "    for k in range(epochs):\n",
    "        logits = W_test[train_xs[:,0], train_xs[:, 1],]\n",
    "        # counts = logits.exp()\n",
    "        # probs = counts/counts.sum(1, keepdim=True)\n",
    "\n",
    "        # train_loss = -probs[torch.arange(len(train_ys)), train_ys].log().mean()\n",
    "        train_loss = F.cross_entropy(logits, train_ys)\n",
    "        W_test.grad = None\n",
    "        train_loss.backward()\n",
    "        W_test.data += -lr * W_test.grad\n",
    "\n",
    "    losses[0, i] = train_loss.item()\n",
    "\n",
    "    logits = W_test[dev_xs[:,0], dev_xs[:, 1],]\n",
    "    # counts = logits.exp()\n",
    "    # probs = counts/counts.sum(1, keepdim=True)\n",
    "\n",
    "    # dev_loss = -probs[torch.arange(len(dev_ys)), dev_ys].log().mean()\n",
    "    dev_loss = F.cross_entropy(logits, dev_ys)\n",
    "    losses[1, i] = dev_loss.item()\n",
    "    \n",
    "    logits = W_test[test_xs[:,0], test_xs[:, 1],]\n",
    "    # counts = logits.exp()\n",
    "    # probs = counts/counts.sum(1, keepdim=True)\n",
    "\n",
    "    # test_loss = -probs[torch.arange(len(test_ys)), test_ys].log().mean()\n",
    "    test_loss = F.cross_entropy(logits, test_ys)\n",
    "    losses[2, i] = test_loss.item()\n",
    "\n",
    "    print(f\"{lr=}: {train_loss=:.4f}: {dev_loss=:.4f}: {test_loss=:.4f}:\")"
   ]
  },
  {
   "cell_type": "code",
   "execution_count": 79,
   "metadata": {},
   "outputs": [
    {
     "data": {
      "image/png": "[encoded data removed]",
      "text/plain": [
       "<Figure size 432x288 with 1 Axes>"
      ]
     },
     "metadata": {
      "needs_background": "light"
     },
     "output_type": "display_data"
    }
   ],
   "source": [
    "plt.plot(lrs, losses[0].detach())\n",
    "plt.plot(lrs, losses[1].detach())\n",
    "plt.plot(lrs, losses[2].detach())\n",
    "plt.legend(['train_loss', 'dev_loss', 'test_loss']);"
   ]
  },
  {
   "attachments": {},
   "cell_type": "markdown",
   "metadata": {},
   "source": [
    "After Some iterations the training rate 330 seemed to be the best"
   ]
  },
  {
   "cell_type": "code",
   "execution_count": 80,
   "metadata": {},
   "outputs": [
    {
     "data": {
      "text/plain": [
       "<matplotlib.image.AxesImage at 0x17bf37953f0>"
      ]
     },
     "execution_count": 80,
     "metadata": {},
     "output_type": "execute_result"
    },
    {
     "data": {
      "image/png": "[encoded data removed]",
      "text/plain": [
       "<Figure size 432x288 with 1 Axes>"
      ]
     },
     "metadata": {
      "needs_background": "light"
     },
     "output_type": "display_data"
    }
   ],
   "source": [
    "plt.imshow(W_test[1].detach().numpy())"
   ]
  },
  {
   "cell_type": "code",
   "execution_count": 83,
   "metadata": {},
   "outputs": [],
   "source": [
    "g = torch.Generator().manual_seed(2147483647)\n",
    "W_final = torch.randn((27, 27, 27), generator=g, requires_grad=True)\n",
    "epochs = 1000\n",
    "lr = 330\n",
    "losses = torch.zeros((3, epochs))\n",
    "# Train\n",
    "for k in range(epochs):\n",
    "    logits = W_final[train_xs[:,0], train_xs[:, 1],]\n",
    "\n",
    "    train_loss = F.cross_entropy(logits, train_ys)\n",
    "    W_final.grad = None\n",
    "    train_loss.backward()\n",
    "    W_final.data += -lr * W_final.grad\n",
    "    losses[0, k] = train_loss.item()\n",
    "\n",
    "    logits = W_final[dev_xs[:,0], dev_xs[:, 1],]\n",
    "    dev_loss = F.cross_entropy(logits, dev_ys)\n",
    "    losses[1, k] = dev_loss.item()\n",
    "\n",
    "    logits = W_final[test_xs[:,0], test_xs[:, 1],]\n",
    "    test_loss = F.cross_entropy(logits, test_ys)\n",
    "    losses[2, k] = test_loss.item()\n",
    "\n",
    "    if k > 0 and losses[2][k] - losses[2][k-1] >= 0.1 :\n",
    "        count += 1\n",
    "    else:\n",
    "        count = 0\n",
    "    if count == 5:\n",
    "        break\n"
   ]
  },
  {
   "cell_type": "code",
   "execution_count": 84,
   "metadata": {},
   "outputs": [
    {
     "data": {
      "image/png": "[encoded data removed]",
      "text/plain": [
       "<Figure size 432x288 with 1 Axes>"
      ]
     },
     "metadata": {
      "needs_background": "light"
     },
     "output_type": "display_data"
    }
   ],
   "source": [
    "index = torch.arange(1, 1001, 1)\n",
    "plt.plot(index, losses[0].detach())\n",
    "plt.plot(index, losses[1].detach())\n",
    "plt.plot(index, losses[2].detach())\n",
    "plt.legend(['train_loss', 'dev_loss', 'test_loss']);"
   ]
  },
  {
   "cell_type": "code",
   "execution_count": 86,
   "metadata": {},
   "outputs": [
    {
     "name": "stdout",
     "output_type": "stream",
     "text": [
      "ush.\n",
      "axx.\n",
      "ton.\n",
      "zhoryian.\n",
      "osellais.\n",
      "od.\n",
      "undylizarle.\n",
      "ya.\n",
      "yaiddeldashamannelishaqschuthi.\n",
      "odaw.\n",
      "elilyn.\n",
      "ombelljaxtlenian.\n",
      "ge.\n",
      "oa.\n",
      "orendecatrutaniahermojazacquindeel.\n",
      "pryn.\n",
      "zylie.\n",
      "porilaymira.\n",
      "pracloganniyonis.\n",
      "yusaad.\n",
      "zaiaheli.\n",
      "olena.\n",
      "ron.\n",
      "olann.\n",
      "ty.\n",
      "orylo.\n",
      "zaehali.\n",
      "olytorentonanan.\n",
      "zarle.\n",
      "ottemiyanah.\n"
     ]
    }
   ],
   "source": [
    "g = torch.Generator().manual_seed(2147483647)\n",
    "for i in range(30):\n",
    "    word_out = []\n",
    "    ix1 = 0\n",
    "    ix2 = 0 \n",
    "    while True:  \n",
    "        out = W_final[ix1, ix2]\n",
    "        \n",
    "        counts = out.exp()\n",
    "        p = counts/counts.sum()\n",
    "        \n",
    "        ix1 = ix2\n",
    "        ix2 = torch.multinomial(p, num_samples=1, replacement=True, generator=g).item() \n",
    "        word_out.append(itos[ix2])\n",
    "        if ix2 == 0:\n",
    "            break\n",
    "    print(''.join(word_out))"
   ]
  },
  {
   "cell_type": "code",
   "execution_count": 99,
   "metadata": {},
   "outputs": [
    {
     "data": {
      "text/plain": [
       "<matplotlib.image.AxesImage at 0x17bf3bef820>"
      ]
     },
     "execution_count": 99,
     "metadata": {},
     "output_type": "execute_result"
    },
    {
     "data": {
      "image/png": "[encoded data removed]",
      "text/plain": [
       "<Figure size 432x288 with 1 Axes>"
      ]
     },
     "metadata": {
      "needs_background": "light"
     },
     "output_type": "display_data"
    }
   ],
   "source": [
    "plt.imshow(W_final[5].detach().numpy())"
   ]
  },
  {
   "attachments": {},
   "cell_type": "markdown",
   "metadata": {},
   "source": [
    "The higher probabilities of vowels following consonants and not other vowels and vice versa can be seen in the pattern of weights."
   ]
  }
 ],
 "metadata": {
  "kernelspec": {
   "display_name": "Python 3",
   "language": "python",
   "name": "python3"
  },
  "language_info": {
   "codemirror_mode": {
    "name": "ipython",
    "version": 3
   },
   "file_extension": ".py",
   "mimetype": "text/x-python",
   "name": "python",
   "nbconvert_exporter": "python",
   "pygments_lexer": "ipython3",
   "version": "3.10.5"
  },
  "orig_nbformat": 4
 },
 "nbformat": 4,
 "nbformat_minor": 2
}
